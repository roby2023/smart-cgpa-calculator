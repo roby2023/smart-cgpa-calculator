{
  "nbformat": 4,
  "nbformat_minor": 0,
  "metadata": {
    "colab": {
      "provenance": []
    },
    "kernelspec": {
      "name": "python3",
      "display_name": "Python 3"
    }
  },
  "cells": [
    {
      "cell_type": "code",
      "metadata": {
        "colab": {
          "base_uri": "https://localhost:8080/",
          "height": 1000
        },
        "id": "rjCzNLIU-D2X",
        "outputId": "6b132b1a-5e27-47da-c641-0377ef839018"
      },
      "source": [
        "import numpy as np\n",
        "import matplotlib.pyplot as plt\n",
        "from scipy import stats\n",
        " \n",
        "try:\n",
        "    print(\"Want to calculate SGPA ? press 1 otherwise give a Thanks 🙂 \")\n",
        "    en = int(input())\n",
        "    if (en == 1):\n",
        "        subject = []\n",
        "        n = int(input(\"Enter how many subjects you take : \"))\n",
        " \n",
        "        print(\"enter the subjects results : \")\n",
        "        for i in range(0, n):\n",
        "            ele = float(input())\n",
        " \n",
        "            subject.append(ele)\n",
        "        credit = []\n",
        " \n",
        "        print(\"Enter the subjects credit serially : \")\n",
        "        for i in range(0, n):\n",
        "            ele = float(input())\n",
        " \n",
        "            credit.append(ele)\n",
        " \n",
        "        totalcr = 0\n",
        " \n",
        "        for ele in range(0, len(credit)):\n",
        "            totalcr = totalcr + credit[ele]\n",
        " \n",
        "        total = zip(subject, credit)\n",
        " \n",
        "        mul = [x * y for (x, y) in total]\n",
        " \n",
        "        totals = 0\n",
        " \n",
        "        for ele in range(0, len(mul)):\n",
        "            totals = totals + mul[ele]\n",
        " \n",
        "        final = totals / totalcr\n",
        "        fig = plt.figure()\n",
        "        ax = fig.add_axes([0,0,1,1])\n",
        "        langs = ['Total_SGPA']\n",
        "        students = [final]\n",
        "        ax.bar(langs,students)\n",
        "        plt.show()\n",
        "        print(\"SGPA : \", \"{:.3f}\".format(final))\n",
        " \n",
        "except:\n",
        "    print(\"আচ্ছা ঠিক আছে ধন্যবাদ 🙂\")\n",
        " \n",
        " \n",
        "try:\n",
        "    print(\"Want to know the average CGPA ? press 1 otherwise give a thanks 🙂 \")\n",
        "    press = int(input())\n",
        "    if (press == 1):\n",
        "        cg = []\n",
        "        x = int(input(\"How many semester you completed ? : \"))\n",
        " \n",
        "        print(\"enter the semester results : \")\n",
        "        for i in range(0, x):\n",
        "            ele = float(input())\n",
        "            \n",
        " \n",
        "            cg.append(ele)\n",
        "        \n",
        " \n",
        "        cr = []\n",
        " \n",
        "        print(\"Serially enter total credits in every semesters : \")\n",
        "        for i in range(0, x):\n",
        "            xy = float(input())\n",
        " \n",
        "            cr.append(xy)\n",
        "        semc=[]\n",
        "        for i in range(1,x+1):\n",
        "          semc.append(i)\n",
        "        y_pos = np.arange(len(semc))\n",
        "        plt.bar(y_pos, cg, color=['orange','pink','black','chocolate','crimson','yellow', 'turquoise','red', 'green', 'blue', 'cyan','purple'])\n",
        "        plt.xticks(y_pos, semc)\n",
        "        plt.show()\n",
        " \n",
        "        totalr = zip(cg, cr)\n",
        " \n",
        "        add = [a * b for (a, b) in totalr]\n",
        " \n",
        "        totalcredit = 0\n",
        " \n",
        "        for y in range(0, len(cr)):\n",
        "            totalcredit = totalcredit + cr[y]\n",
        " \n",
        "        totaladd = 0\n",
        " \n",
        "        for f in range(0, len(add)):\n",
        "            totaladd = totaladd + add[f]\n",
        " \n",
        "        final_result = totaladd / totalcredit\n",
        "        \n",
        "        \n",
        " \n",
        "        fig = plt.figure()\n",
        "        ax = fig.add_axes([0,0,1,1])\n",
        "        langs = ['Total_CGPA']\n",
        "        students = [final_result]\n",
        "        ax.bar(langs,students)\n",
        "        plt.show()\n",
        "        print(\"Your Total CGPA: \", \"{:.3f}\".format(final_result))\n",
        "        print(\"Thanks for using my code 🙂\")\n",
        "        \n",
        "        \n",
        "        q=[] \n",
        "        for i in range(0,x):\n",
        "          q.append(i)\n",
        " \n",
        "        y = cg.copy()\n",
        "        \n",
        " \n",
        "        slope, intercept, r, p, std_err = stats.linregress(q, y)\n",
        " \n",
        "        def myfunc(q):\n",
        "          return slope * q + intercept \n",
        " \n",
        "        cgpa1 = myfunc(int(input(\"Enter next semester in number: \")))  \n",
        "        fig = plt.figure() \n",
        "        ax = fig.add_axes([0,0,1,1])\n",
        "        langs = ['Predicted CGPA'] \n",
        "        students = [cgpa1]\n",
        "        ax.bar(langs,students) \n",
        "        plt.show()\n",
        "        print(\"CGPA : \", \"{:.3f}\".format(cgpa1))\n",
        "        print(\"Next semester result is nearly: \",cgpa1)\n",
        " \n",
        "        try:\n",
        "          print(\"Want to know expected CGPA ? press 1 otherwise give a thanks 🙂 \")\n",
        "          press = int(input())\n",
        "          if (press == 1):\n",
        "            expect=float(input(\"Enter the expected CGPA\"))\n",
        "            \n",
        "            tem=expect-final_result\n",
        "            tem=tem+expect\n",
        "          print(\"To achieve\",expect,\"you have to hold\",tem,\"SGPA in every semester\")\n",
        "        except:\n",
        "          print(\"Thanks 🙂 \")\n",
        " \n",
        "except:\n",
        " \n",
        "  print(\"Thanks 🙂 \")"
      ],
      "execution_count": 1,
      "outputs": [
        {
          "name": "stdout",
          "output_type": "stream",
          "text": [
            "Want to calculate SGPA ? press 1 otherwise give a Thanks 🙂 \n",
            "1\n",
            "Enter how many subjects you take : 2\n",
            "enter the subjects results : \n",
            "3.75\n",
            "3.5\n",
            "Enter the subjects credit serially : \n",
            "12\n",
            "16\n"
          ]
        },
        {
          "output_type": "display_data",
          "data": {
            "text/plain": [
              "<Figure size 432x288 with 1 Axes>"
            ],
            "image/png": "[encoded data removed]"
          },
          "metadata": {
            "needs_background": "light"
          }
        },
        {
          "name": "stdout",
          "output_type": "stream",
          "text": [
            "SGPA :  3.607\n",
            "Want to know the average CGPA ? press 1 otherwise give a thanks 🙂 \n",
            "1\n",
            "How many semester you completed ? : 3\n",
            "enter the semester results : \n",
            "3.45\n",
            "3.76\n",
            "3.60\n",
            "Serially enter total credits in every semesters : \n",
            "16\n",
            "12\n",
            "14\n"
          ]
        },
        {
          "output_type": "display_data",
          "data": {
            "text/plain": [
              "<Figure size 432x288 with 1 Axes>"
            ],
            "image/png": "[encoded data removed]"
          },
          "metadata": {
            "needs_background": "light"
          }
        },
        {
          "output_type": "display_data",
          "data": {
            "text/plain": [
              "<Figure size 432x288 with 1 Axes>"
            ],
            "image/png": "[encoded data removed]"
          },
          "metadata": {
            "needs_background": "light"
          }
        },
        {
          "name": "stdout",
          "output_type": "stream",
          "text": [
            "Your Total CGPA:  3.589\n",
            "Thanks for using my code 🙂\n",
            "Enter next semester in number: 4\n"
          ]
        },
        {
          "output_type": "display_data",
          "data": {
            "text/plain": [
              "<Figure size 432x288 with 1 Axes>"
            ],
            "image/png": "[encoded data removed]"
          },
          "metadata": {
            "needs_background": "light"
          }
        },
        {
          "output_type": "stream",
          "name": "stdout",
          "text": [
            "CGPA :  3.828\n",
            "Next semester result is nearly:  3.828333333333333\n",
            "Want to know expected CGPA ? press 1 otherwise give a thanks 🙂 \n",
            "1\n",
            "Enter the expected CGPA3.8\n",
            "To achieve 3.8 you have to hold 4.011428571428571 SGPA in every semester\n"
          ]
        }
      ]
    }
  ]
}